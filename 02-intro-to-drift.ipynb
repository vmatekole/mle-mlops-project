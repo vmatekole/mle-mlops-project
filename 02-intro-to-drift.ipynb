{
 "cells": [
  {
   "cell_type": "markdown",
   "metadata": {},
   "source": [
    "# Intro to Model and Data Drift\n",
    "\n",
    "When a model is put into production, it moves from a static environment where the relationship between the input & output doesn’t change to a live environment where the relationship between the input & output does change. The changing relationship causes the model to start losing predictive power. This loss in predictive power is called model drift.\n",
    "\n",
    "\n",
    "In general, there are two reasons why drift can occur in machine learning models.\n",
    "\n",
    "1. The first one is when an external event mixes up the data: customers’ preferences suddenly change due to the pandemic, or a competitor launches a new product or service. If this has happened, an update or retraining is necessary for your model to keep producing accurate predictions.\n",
    "2. The other reason is when there is something wrong with the data integrity. For example, the model swaps two values like the height of a person and their age, or a website suddenly accepts blank fields due to a bug.\n",
    "\n",
    "Both of these reasons are important to monitor and detect. But let's focus on the first one, the external events that change the data.\n",
    "\n",
    "An example:\n",
    "\n",
    "You've built a model that tries to predict how much a person will spend in an online webshop, using the age and the gender of a person. The training data set mostly consists of females, with the average age of all customers being 35. The model learns that mostly older people and women buy something more often. After monitoring my model’s predictive performance, you notice that it’s starting to decrease… But why? \n",
    "\n",
    "After doing some research you discovered that the webshop now has younger customers: the average age has dropped from 35 years to 25 years. Furthermore, the live data shows that currently not the women, but the men!\n",
    "\n",
    "So, the original relationship between the features that the model has learned from the original training data set, isn’t valid anymore on the real-time incoming data. Which causes the model to lose its predictive power. This loss in predictive power is called model drift and the change in the data is called data drift."
   ]
  },
  {
   "cell_type": "markdown",
   "metadata": {},
   "source": [
    "Let's have a look on the NY taxi data set."
   ]
  },
  {
   "cell_type": "code",
   "execution_count": 1,
   "metadata": {},
   "outputs": [
    {
     "data": {
      "text/plain": [
       "True"
      ]
     },
     "execution_count": 1,
     "metadata": {},
     "output_type": "execute_result"
    }
   ],
   "source": [
    "import os\n",
    "from dotenv import load_dotenv\n",
    "\n",
    "import pandas as pd\n",
    "import matplotlib.pyplot as plt\n",
    "import mlflow\n",
    "\n",
    "load_dotenv()"
   ]
  },
  {
   "cell_type": "markdown",
   "metadata": {},
   "source": [
    "Let's start by loading the data sets. The first one is the dataset we train the model on:\n"
   ]
  },
  {
   "cell_type": "code",
   "execution_count": 2,
   "metadata": {},
   "outputs": [],
   "source": [
    "year = 2021\n",
    "month = 1\n",
    "color = \"green\"\n",
    "\n",
    "df_21_1 = pd.read_parquet(f\"./data/{color}_tripdata_{year}-{month:02d}.parquet\")\n"
   ]
  },
  {
   "cell_type": "markdown",
   "metadata": {},
   "source": [
    "The second one is the dataset we compare to the first one."
   ]
  },
  {
   "cell_type": "code",
   "execution_count": 3,
   "metadata": {},
   "outputs": [
    {
     "name": "stderr",
     "output_type": "stream",
     "text": [
      "--2023-07-19 11:25:09--  https://d37ci6vzurychx.cloudfront.net/trip-data/green_tripdata_2022-02.parquet\n",
      "Resolving d37ci6vzurychx.cloudfront.net (d37ci6vzurychx.cloudfront.net)... 143.204.101.58, 143.204.101.20, 143.204.101.175, ...\n",
      "Connecting to d37ci6vzurychx.cloudfront.net (d37ci6vzurychx.cloudfront.net)|143.204.101.58|:443... connected.\n",
      "HTTP request sent, awaiting response... 200 OK\n",
      "Length: 1428262 (1,4M) [binary/octet-stream]\n",
      "Saving to: ‘./data/green_tripdata_2022-02.parquet’\n",
      "\n",
      "     0K .......... .......... .......... .......... ..........  3%  918K 1s\n",
      "    50K .......... .......... .......... .......... ..........  7% 1,44M 1s\n",
      "   100K .......... .......... .......... .......... .......... 10% 5,08M 1s\n",
      "   150K .......... .......... .......... .......... .......... 14% 2,93M 1s\n",
      "   200K .......... .......... .......... .......... .......... 17% 9,72M 1s\n",
      "   250K .......... .......... .......... .......... .......... 21% 2,61M 1s\n",
      "   300K .......... .......... .......... .......... .......... 25% 87,5M 0s\n",
      "   350K .......... .......... .......... .......... .......... 28% 11,1M 0s\n",
      "   400K .......... .......... .......... .......... .......... 32% 5,63M 0s\n",
      "   450K .......... .......... .......... .......... .......... 35% 3,13M 0s\n",
      "   500K .......... .......... .......... .......... .......... 39% 2,35M 0s\n",
      "   550K .......... .......... .......... .......... .......... 43%  139M 0s\n",
      "   600K .......... .......... .......... .......... .......... 46% 81,0M 0s\n",
      "   650K .......... .......... .......... .......... .......... 50% 77,3M 0s\n",
      "   700K .......... .......... .......... .......... .......... 53% 57,2M 0s\n",
      "   750K .......... .......... .......... .......... .......... 57% 71,4M 0s\n",
      "   800K .......... .......... .......... .......... .......... 60% 72,9M 0s\n",
      "   850K .......... .......... .......... .......... .......... 64% 79,1M 0s\n",
      "   900K .......... .......... .......... .......... .......... 68% 12,1M 0s\n",
      "   950K .......... .......... .......... .......... .......... 71% 2,47M 0s\n",
      "  1000K .......... .......... .......... .......... .......... 75% 20,9M 0s\n",
      "  1050K .......... .......... .......... .......... .......... 78% 2,53M 0s\n",
      "  1100K .......... .......... .......... .......... .......... 82%  121M 0s\n",
      "  1150K .......... .......... .......... .......... .......... 86%  156M 0s\n",
      "  1200K .......... .......... .......... .......... .......... 89%  164M 0s\n",
      "  1250K .......... .......... .......... .......... .......... 93%  123M 0s\n",
      "  1300K .......... .......... .......... .......... .......... 96%  143M 0s\n",
      "  1350K .......... .......... .......... .......... ....      100%  103M=0,2s\n",
      "\n",
      "2023-07-19 11:25:09 (5,67 MB/s) - ‘./data/green_tripdata_2022-02.parquet’ saved [1428262/1428262]\n",
      "\n"
     ]
    }
   ],
   "source": [
    "year = 2022\n",
    "month = 2\n",
    "color = \"green\"\n",
    "\n",
    "if not os.path.exists(f\"./data/{color}_tripdata_{year}-{month:02d}.parquet\"):\n",
    "    os.system(f\"wget -P ./data https://d37ci6vzurychx.cloudfront.net/trip-data/{color}_tripdata_{year}-{month:02d}.parquet\")\n",
    "\n",
    "df_22_2 = pd.read_parquet(f\"./data/{color}_tripdata_{year}-{month:02d}.parquet\")"
   ]
  },
  {
   "cell_type": "markdown",
   "metadata": {},
   "source": [
    "We will only look at the features we trained the model on:"
   ]
  },
  {
   "cell_type": "code",
   "execution_count": 4,
   "metadata": {},
   "outputs": [],
   "source": [
    "features = [\"PULocationID\", \"DOLocationID\", \"trip_distance\", \"passenger_count\", \"fare_amount\", \"total_amount\"]\n",
    "target = 'duration'"
   ]
  },
  {
   "cell_type": "code",
   "execution_count": 5,
   "metadata": {},
   "outputs": [],
   "source": [
    "def calculate_trip_duration_in_minutes(df):\n",
    "    df[\"duration\"] = (df[\"lpep_dropoff_datetime\"] - df[\"lpep_pickup_datetime\"]).dt.total_seconds() / 60\n",
    "    df = df[(df[\"duration\"] >= 1) & (df[\"duration\"] <= 60)]\n",
    "    df = df[(df['passenger_count'] > 0) & (df['passenger_count'] < 8)]\n",
    "    df = df[features + [target]]\n",
    "    return df"
   ]
  },
  {
   "cell_type": "code",
   "execution_count": 6,
   "metadata": {},
   "outputs": [],
   "source": [
    "df_21_1 = calculate_trip_duration_in_minutes(df_21_1)\n",
    "df_22_2 = calculate_trip_duration_in_minutes(df_22_2)\n",
    "df_22_2 = df_22_2.iloc[:len(df_21_1)]"
   ]
  },
  {
   "cell_type": "markdown",
   "metadata": {},
   "source": [
    "### Now let's compare the data"
   ]
  },
  {
   "cell_type": "code",
   "execution_count": 7,
   "metadata": {},
   "outputs": [
    {
     "data": {
      "text/html": [
       "<div>\n",
       "<style scoped>\n",
       "    .dataframe tbody tr th:only-of-type {\n",
       "        vertical-align: middle;\n",
       "    }\n",
       "\n",
       "    .dataframe tbody tr th {\n",
       "        vertical-align: top;\n",
       "    }\n",
       "\n",
       "    .dataframe thead th {\n",
       "        text-align: right;\n",
       "    }\n",
       "</style>\n",
       "<table border=\"1\" class=\"dataframe\">\n",
       "  <thead>\n",
       "    <tr style=\"text-align: right;\">\n",
       "      <th></th>\n",
       "      <th>PULocationID</th>\n",
       "      <th>DOLocationID</th>\n",
       "      <th>trip_distance</th>\n",
       "      <th>passenger_count</th>\n",
       "      <th>fare_amount</th>\n",
       "      <th>total_amount</th>\n",
       "      <th>duration</th>\n",
       "    </tr>\n",
       "  </thead>\n",
       "  <tbody>\n",
       "    <tr>\n",
       "      <th>count</th>\n",
       "      <td>38065.000000</td>\n",
       "      <td>38065.000000</td>\n",
       "      <td>38065.000000</td>\n",
       "      <td>38065.00000</td>\n",
       "      <td>38065.000000</td>\n",
       "      <td>38065.000000</td>\n",
       "      <td>38065.000000</td>\n",
       "    </tr>\n",
       "    <tr>\n",
       "      <th>mean</th>\n",
       "      <td>96.493498</td>\n",
       "      <td>133.189833</td>\n",
       "      <td>9.633975</td>\n",
       "      <td>1.19958</td>\n",
       "      <td>13.379229</td>\n",
       "      <td>16.682105</td>\n",
       "      <td>13.694301</td>\n",
       "    </tr>\n",
       "    <tr>\n",
       "      <th>std</th>\n",
       "      <td>63.304463</td>\n",
       "      <td>77.830987</td>\n",
       "      <td>1251.393768</td>\n",
       "      <td>0.76102</td>\n",
       "      <td>11.961410</td>\n",
       "      <td>13.420166</td>\n",
       "      <td>10.404338</td>\n",
       "    </tr>\n",
       "    <tr>\n",
       "      <th>min</th>\n",
       "      <td>3.000000</td>\n",
       "      <td>1.000000</td>\n",
       "      <td>0.000000</td>\n",
       "      <td>1.00000</td>\n",
       "      <td>-280.000000</td>\n",
       "      <td>-280.300000</td>\n",
       "      <td>1.000000</td>\n",
       "    </tr>\n",
       "    <tr>\n",
       "      <th>25%</th>\n",
       "      <td>43.000000</td>\n",
       "      <td>69.000000</td>\n",
       "      <td>1.100000</td>\n",
       "      <td>1.00000</td>\n",
       "      <td>6.500000</td>\n",
       "      <td>8.800000</td>\n",
       "      <td>6.650000</td>\n",
       "    </tr>\n",
       "    <tr>\n",
       "      <th>50%</th>\n",
       "      <td>75.000000</td>\n",
       "      <td>132.000000</td>\n",
       "      <td>1.860000</td>\n",
       "      <td>1.00000</td>\n",
       "      <td>9.500000</td>\n",
       "      <td>12.560000</td>\n",
       "      <td>10.716667</td>\n",
       "    </tr>\n",
       "    <tr>\n",
       "      <th>75%</th>\n",
       "      <td>124.000000</td>\n",
       "      <td>210.000000</td>\n",
       "      <td>3.550000</td>\n",
       "      <td>1.00000</td>\n",
       "      <td>15.500000</td>\n",
       "      <td>19.550000</td>\n",
       "      <td>17.233333</td>\n",
       "    </tr>\n",
       "    <tr>\n",
       "      <th>max</th>\n",
       "      <td>265.000000</td>\n",
       "      <td>265.000000</td>\n",
       "      <td>244152.010000</td>\n",
       "      <td>6.00000</td>\n",
       "      <td>280.000000</td>\n",
       "      <td>280.300000</td>\n",
       "      <td>59.983333</td>\n",
       "    </tr>\n",
       "  </tbody>\n",
       "</table>\n",
       "</div>"
      ],
      "text/plain": [
       "       PULocationID  DOLocationID  trip_distance  passenger_count  \\\n",
       "count  38065.000000  38065.000000   38065.000000      38065.00000   \n",
       "mean      96.493498    133.189833       9.633975          1.19958   \n",
       "std       63.304463     77.830987    1251.393768          0.76102   \n",
       "min        3.000000      1.000000       0.000000          1.00000   \n",
       "25%       43.000000     69.000000       1.100000          1.00000   \n",
       "50%       75.000000    132.000000       1.860000          1.00000   \n",
       "75%      124.000000    210.000000       3.550000          1.00000   \n",
       "max      265.000000    265.000000  244152.010000          6.00000   \n",
       "\n",
       "        fare_amount  total_amount      duration  \n",
       "count  38065.000000  38065.000000  38065.000000  \n",
       "mean      13.379229     16.682105     13.694301  \n",
       "std       11.961410     13.420166     10.404338  \n",
       "min     -280.000000   -280.300000      1.000000  \n",
       "25%        6.500000      8.800000      6.650000  \n",
       "50%        9.500000     12.560000     10.716667  \n",
       "75%       15.500000     19.550000     17.233333  \n",
       "max      280.000000    280.300000     59.983333  "
      ]
     },
     "execution_count": 7,
     "metadata": {},
     "output_type": "execute_result"
    }
   ],
   "source": [
    "df_21_1.describe()"
   ]
  },
  {
   "cell_type": "code",
   "execution_count": 8,
   "metadata": {},
   "outputs": [
    {
     "data": {
      "text/html": [
       "<div>\n",
       "<style scoped>\n",
       "    .dataframe tbody tr th:only-of-type {\n",
       "        vertical-align: middle;\n",
       "    }\n",
       "\n",
       "    .dataframe tbody tr th {\n",
       "        vertical-align: top;\n",
       "    }\n",
       "\n",
       "    .dataframe thead th {\n",
       "        text-align: right;\n",
       "    }\n",
       "</style>\n",
       "<table border=\"1\" class=\"dataframe\">\n",
       "  <thead>\n",
       "    <tr style=\"text-align: right;\">\n",
       "      <th></th>\n",
       "      <th>PULocationID</th>\n",
       "      <th>DOLocationID</th>\n",
       "      <th>trip_distance</th>\n",
       "      <th>passenger_count</th>\n",
       "      <th>fare_amount</th>\n",
       "      <th>total_amount</th>\n",
       "      <th>duration</th>\n",
       "    </tr>\n",
       "  </thead>\n",
       "  <tbody>\n",
       "    <tr>\n",
       "      <th>count</th>\n",
       "      <td>38065.000000</td>\n",
       "      <td>38065.000000</td>\n",
       "      <td>38065.000000</td>\n",
       "      <td>38065.000000</td>\n",
       "      <td>38065.000000</td>\n",
       "      <td>38065.000000</td>\n",
       "      <td>38065.000000</td>\n",
       "    </tr>\n",
       "    <tr>\n",
       "      <th>mean</th>\n",
       "      <td>96.312807</td>\n",
       "      <td>135.542546</td>\n",
       "      <td>2.599572</td>\n",
       "      <td>1.264101</td>\n",
       "      <td>12.708339</td>\n",
       "      <td>16.284270</td>\n",
       "      <td>14.461234</td>\n",
       "    </tr>\n",
       "    <tr>\n",
       "      <th>std</th>\n",
       "      <td>60.365329</td>\n",
       "      <td>76.672934</td>\n",
       "      <td>2.495192</td>\n",
       "      <td>0.880764</td>\n",
       "      <td>9.061809</td>\n",
       "      <td>10.771056</td>\n",
       "      <td>9.820250</td>\n",
       "    </tr>\n",
       "    <tr>\n",
       "      <th>min</th>\n",
       "      <td>3.000000</td>\n",
       "      <td>1.000000</td>\n",
       "      <td>0.000000</td>\n",
       "      <td>1.000000</td>\n",
       "      <td>-75.000000</td>\n",
       "      <td>-75.300000</td>\n",
       "      <td>1.000000</td>\n",
       "    </tr>\n",
       "    <tr>\n",
       "      <th>25%</th>\n",
       "      <td>65.000000</td>\n",
       "      <td>74.000000</td>\n",
       "      <td>1.110000</td>\n",
       "      <td>1.000000</td>\n",
       "      <td>7.000000</td>\n",
       "      <td>9.350000</td>\n",
       "      <td>7.616667</td>\n",
       "    </tr>\n",
       "    <tr>\n",
       "      <th>50%</th>\n",
       "      <td>75.000000</td>\n",
       "      <td>138.000000</td>\n",
       "      <td>1.810000</td>\n",
       "      <td>1.000000</td>\n",
       "      <td>10.000000</td>\n",
       "      <td>13.500000</td>\n",
       "      <td>11.916667</td>\n",
       "    </tr>\n",
       "    <tr>\n",
       "      <th>75%</th>\n",
       "      <td>129.000000</td>\n",
       "      <td>213.000000</td>\n",
       "      <td>3.200000</td>\n",
       "      <td>1.000000</td>\n",
       "      <td>15.200000</td>\n",
       "      <td>19.800000</td>\n",
       "      <td>18.450000</td>\n",
       "    </tr>\n",
       "    <tr>\n",
       "      <th>max</th>\n",
       "      <td>265.000000</td>\n",
       "      <td>265.000000</td>\n",
       "      <td>36.500000</td>\n",
       "      <td>6.000000</td>\n",
       "      <td>210.000000</td>\n",
       "      <td>210.300000</td>\n",
       "      <td>59.950000</td>\n",
       "    </tr>\n",
       "  </tbody>\n",
       "</table>\n",
       "</div>"
      ],
      "text/plain": [
       "       PULocationID  DOLocationID  trip_distance  passenger_count  \\\n",
       "count  38065.000000  38065.000000   38065.000000     38065.000000   \n",
       "mean      96.312807    135.542546       2.599572         1.264101   \n",
       "std       60.365329     76.672934       2.495192         0.880764   \n",
       "min        3.000000      1.000000       0.000000         1.000000   \n",
       "25%       65.000000     74.000000       1.110000         1.000000   \n",
       "50%       75.000000    138.000000       1.810000         1.000000   \n",
       "75%      129.000000    213.000000       3.200000         1.000000   \n",
       "max      265.000000    265.000000      36.500000         6.000000   \n",
       "\n",
       "        fare_amount  total_amount      duration  \n",
       "count  38065.000000  38065.000000  38065.000000  \n",
       "mean      12.708339     16.284270     14.461234  \n",
       "std        9.061809     10.771056      9.820250  \n",
       "min      -75.000000    -75.300000      1.000000  \n",
       "25%        7.000000      9.350000      7.616667  \n",
       "50%       10.000000     13.500000     11.916667  \n",
       "75%       15.200000     19.800000     18.450000  \n",
       "max      210.000000    210.300000     59.950000  "
      ]
     },
     "execution_count": 8,
     "metadata": {},
     "output_type": "execute_result"
    }
   ],
   "source": [
    "df_22_2.describe()"
   ]
  },
  {
   "cell_type": "code",
   "execution_count": 9,
   "metadata": {},
   "outputs": [
    {
     "data": {
      "image/png": "[encoded data removed]",
      "text/plain": [
       "<Figure size 2100x300 with 7 Axes>"
      ]
     },
     "metadata": {},
     "output_type": "display_data"
    }
   ],
   "source": [
    "fig, ax = plt.subplots(1, len(df_21_1.columns), figsize=(3*len(df_21_1.columns), 3))\n",
    "for i, var in enumerate(df_21_1):\n",
    "    df_21_1[var].hist(ax=ax[i])\n",
    "    ax[i].set_title(var)\n",
    "plt.show()"
   ]
  },
  {
   "cell_type": "code",
   "execution_count": 10,
   "metadata": {},
   "outputs": [
    {
     "data": {
      "image/png": "[encoded data removed]",
      "text/plain": [
       "<Figure size 2100x300 with 7 Axes>"
      ]
     },
     "metadata": {},
     "output_type": "display_data"
    }
   ],
   "source": [
    "fig, ax = plt.subplots(1, len(df_22_2.columns), figsize=(3*len(df_22_2.columns), 3))\n",
    "for i, var in enumerate(df_22_2):\n",
    "    df_22_2[var].hist(ax=ax[i])\n",
    "    ax[i].set_title(var)\n",
    "plt.show()"
   ]
  },
  {
   "cell_type": "markdown",
   "metadata": {},
   "source": [
    "We see small changes in nearly all features. But we can also calculate the difference between the two data sets with the Wasserstein distance for numerical features and the Jensen-Shannon distance for categorical features. Both are metrics that calculates the distance between two probability distributions. The lower the value, the more similar the two distributions are."
   ]
  },
  {
   "cell_type": "markdown",
   "metadata": {},
   "source": [
    "Let's calculate the Wasserstein distance between the features of the two data sets:"
   ]
  },
  {
   "cell_type": "code",
   "execution_count": 11,
   "metadata": {},
   "outputs": [],
   "source": [
    "from scipy.stats import wasserstein_distance\n",
    "from scipy.spatial.distance import jensenshannon\n",
    "import numpy as np\n",
    "\n",
    "def drift_wasserstein_test(var_train: pd.Series, var_test: pd.Series):\n",
    "    return wasserstein_distance(var_train, var_test)\n",
    "\n",
    "def drift_jensenshannon_test(var_train: pd.Series, var_test: pd.Series):\n",
    "    return jensenshannon(var_train, var_test)"
   ]
  },
  {
   "cell_type": "code",
   "execution_count": 13,
   "metadata": {},
   "outputs": [],
   "source": [
    "df_drift = pd.DataFrame(columns=[\"feature\", \"distance\"])\n",
    "\n",
    "cat_features = [\"PULocationID\", \"DOLocationID\"]\n",
    "num_features = [\"trip_distance\", \"passenger_count\", \"fare_amount\", \"total_amount\"]\n",
    "\n",
    "for feature in num_features:\n",
    "    df_drift = pd.concat(\n",
    "        [df_drift, \n",
    "         pd.DataFrame(\n",
    "            [{\"feature\": feature, \n",
    "            \"wasserstein_distance\": drift_wasserstein_test(df_21_1[feature],\n",
    "                                                           df_22_2[feature])}])],\n",
    "            ignore_index=True\n",
    "        )\n",
    "\n",
    "for feature in cat_features:\n",
    "    df_drift = pd.concat(\n",
    "        [df_drift, \n",
    "         pd.DataFrame(\n",
    "            [{\"feature\": feature, \n",
    "            \"wasserstein_distance\": drift_jensenshannon_test(df_21_1[feature],\n",
    "                                                           df_22_2[feature])}])],\n",
    "            ignore_index=True\n",
    "        )"
   ]
  },
  {
   "cell_type": "markdown",
   "metadata": {},
   "source": [
    "There are more tests to detect drift, but this is a good start. If you want to learn more about drift detection, check out this [article](https://www.evidentlyai.com/blog/data-drift-detection-large-datasets). For both Wasserstein and Jensen-Shannon distance there is a threshold value. If the distance is higher than the threshold, we can say that there is drift. For both the threshold is normally at 0.1. Let's check if there is drift in the data:"
   ]
  },
  {
   "cell_type": "code",
   "execution_count": 14,
   "metadata": {},
   "outputs": [
    {
     "data": {
      "text/html": [
       "<div>\n",
       "<style scoped>\n",
       "    .dataframe tbody tr th:only-of-type {\n",
       "        vertical-align: middle;\n",
       "    }\n",
       "\n",
       "    .dataframe tbody tr th {\n",
       "        vertical-align: top;\n",
       "    }\n",
       "\n",
       "    .dataframe thead th {\n",
       "        text-align: right;\n",
       "    }\n",
       "</style>\n",
       "<table border=\"1\" class=\"dataframe\">\n",
       "  <thead>\n",
       "    <tr style=\"text-align: right;\">\n",
       "      <th></th>\n",
       "      <th>feature</th>\n",
       "      <th>distance</th>\n",
       "      <th>wasserstein_distance</th>\n",
       "    </tr>\n",
       "  </thead>\n",
       "  <tbody>\n",
       "    <tr>\n",
       "      <th>0</th>\n",
       "      <td>trip_distance</td>\n",
       "      <td>NaN</td>\n",
       "      <td>7.043676</td>\n",
       "    </tr>\n",
       "    <tr>\n",
       "      <th>1</th>\n",
       "      <td>passenger_count</td>\n",
       "      <td>NaN</td>\n",
       "      <td>0.064521</td>\n",
       "    </tr>\n",
       "    <tr>\n",
       "      <th>2</th>\n",
       "      <td>fare_amount</td>\n",
       "      <td>NaN</td>\n",
       "      <td>1.345826</td>\n",
       "    </tr>\n",
       "    <tr>\n",
       "      <th>3</th>\n",
       "      <td>total_amount</td>\n",
       "      <td>NaN</td>\n",
       "      <td>1.469330</td>\n",
       "    </tr>\n",
       "    <tr>\n",
       "      <th>4</th>\n",
       "      <td>PULocationID</td>\n",
       "      <td>NaN</td>\n",
       "      <td>0.300265</td>\n",
       "    </tr>\n",
       "    <tr>\n",
       "      <th>5</th>\n",
       "      <td>DOLocationID</td>\n",
       "      <td>NaN</td>\n",
       "      <td>0.302452</td>\n",
       "    </tr>\n",
       "  </tbody>\n",
       "</table>\n",
       "</div>"
      ],
      "text/plain": [
       "           feature distance  wasserstein_distance\n",
       "0    trip_distance      NaN              7.043676\n",
       "1  passenger_count      NaN              0.064521\n",
       "2      fare_amount      NaN              1.345826\n",
       "3     total_amount      NaN              1.469330\n",
       "4     PULocationID      NaN              0.300265\n",
       "5     DOLocationID      NaN              0.302452"
      ]
     },
     "execution_count": 14,
     "metadata": {},
     "output_type": "execute_result"
    }
   ],
   "source": [
    "df_drift"
   ]
  },
  {
   "cell_type": "markdown",
   "metadata": {},
   "source": [
    "So it seems we can confirm what we saw in the histograms. There is drift in nearly all features except tje passenger count. This method we can also use to detect drift in the target variable. Let's have a look at the target variable:"
   ]
  },
  {
   "cell_type": "code",
   "execution_count": 15,
   "metadata": {},
   "outputs": [
    {
     "data": {
      "text/plain": [
       "1.0568050264897764"
      ]
     },
     "execution_count": 15,
     "metadata": {},
     "output_type": "execute_result"
    }
   ],
   "source": [
    "drift_wasserstein_test(df_21_1[target],df_22_2[target])"
   ]
  },
  {
   "cell_type": "markdown",
   "metadata": {},
   "source": [
    "So we also have a drift in our target variable."
   ]
  },
  {
   "cell_type": "markdown",
   "metadata": {},
   "source": [
    "Of course you can also use the drift detection methods to detect drift in the prediction of our data. Let's load the model and do predictions on the two data sets:"
   ]
  },
  {
   "cell_type": "code",
   "execution_count": 16,
   "metadata": {},
   "outputs": [],
   "source": [
    "MLFLOW_TRACKING_URI=os.getenv(\"MLFLOW_TRACKING_URI\")\n",
    "# Set up the connection to MLflow\n",
    "mlflow.set_tracking_uri(MLFLOW_TRACKING_URI)\n",
    "# Setup the MLflow experiment \n",
    "mlflow.set_experiment(\"green-taxi-monitoring\")\n",
    "\n",
    "SA_KEY=os.getenv(\"SA_KEY\")\n",
    "os.environ[\"GOOGLE_APPLICATION_CREDENTIALS\"] = SA_KEY"
   ]
  },
  {
   "cell_type": "code",
   "execution_count": 17,
   "metadata": {},
   "outputs": [
    {
     "name": "stderr",
     "output_type": "stream",
     "text": [
      "2023/07/19 11:33:29 WARNING mlflow.pyfunc: Detected one or more mismatches between the model's dependencies and the current Python environment:\n",
      " - mlflow (current: 2.4.2, required: mlflow==2.4)\n",
      "To fix the mismatches, call `mlflow.pyfunc.get_model_dependencies(model_uri)` to fetch the model's environment and install dependencies using the resulting environment file.\n"
     ]
    }
   ],
   "source": [
    "def load_model(model_name):\n",
    "    stage = \"Production\"\n",
    "    model_uri = f\"models:/{model_name}/{stage}\"\n",
    "    model = mlflow.pyfunc.load_model(model_uri)\n",
    "    return model\n",
    "\n",
    "model_name = \"green-taxi-ride-duration\"\n",
    "\n",
    "loaded_model = load_model(model_name)"
   ]
  },
  {
   "cell_type": "code",
   "execution_count": 18,
   "metadata": {},
   "outputs": [
    {
     "name": "stderr",
     "output_type": "stream",
     "text": [
      "2023/07/19 11:33:33 WARNING mlflow.pyfunc: Detected one or more mismatches between the model's dependencies and the current Python environment:\n",
      " - mlflow (current: 2.4.2, required: mlflow==2.4)\n",
      "To fix the mismatches, call `mlflow.pyfunc.get_model_dependencies(model_uri)` to fetch the model's environment and install dependencies using the resulting environment file.\n"
     ]
    }
   ],
   "source": [
    "model_name = \"green-taxi-ride-duration\"\n",
    "\n",
    "loaded_model = load_model(model_name)"
   ]
  },
  {
   "cell_type": "code",
   "execution_count": 19,
   "metadata": {},
   "outputs": [],
   "source": [
    "df_21_1[\"prediction\"] = loaded_model.predict(df_21_1[features])"
   ]
  },
  {
   "cell_type": "code",
   "execution_count": 20,
   "metadata": {},
   "outputs": [],
   "source": [
    "df_22_2[\"prediction\"] = loaded_model.predict(df_22_2[features])"
   ]
  },
  {
   "cell_type": "markdown",
   "metadata": {},
   "source": [
    "And now we can calculate the drift in the predictions:"
   ]
  },
  {
   "cell_type": "code",
   "execution_count": 21,
   "metadata": {},
   "outputs": [
    {
     "data": {
      "text/plain": [
       "1.0000542799236964"
      ]
     },
     "execution_count": 21,
     "metadata": {},
     "output_type": "execute_result"
    }
   ],
   "source": [
    "drift_wasserstein_test(df_21_1[\"prediction\"],df_22_2[\"prediction\"])"
   ]
  },
  {
   "cell_type": "markdown",
   "metadata": {},
   "source": [
    "And also here we can see the drift. All this drifts lead to a loss of predictive power. So we need to retrain our model. But how often do we need to retrain our model? This is a difficult question to answer. It depends on the problem you are trying to solve. If you are trying to predict the stock market, you probably need to retrain your model every day. But if you are trying to predict the price of a house, you probably need to retrain your model every month. But in general, you need to retrain your model when the drift is higher than the threshold you set."
   ]
  },
  {
   "cell_type": "markdown",
   "metadata": {},
   "source": [
    "In the next notebook we will have a look at how we can do this in a more automated way."
   ]
  }
 ],
 "metadata": {
  "kernelspec": {
   "display_name": ".venv",
   "language": "python",
   "name": "python3"
  },
  "language_info": {
   "codemirror_mode": {
    "name": "ipython",
    "version": 3
   },
   "file_extension": ".py",
   "mimetype": "text/x-python",
   "name": "python",
   "nbconvert_exporter": "python",
   "pygments_lexer": "ipython3",
   "version": "3.11.3"
  },
  "orig_nbformat": 4
 },
 "nbformat": 4,
 "nbformat_minor": 2
}
