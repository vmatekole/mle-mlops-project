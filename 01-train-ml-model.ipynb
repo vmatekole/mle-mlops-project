{
 "cells": [
  {
   "attachments": {},
   "cell_type": "markdown",
   "metadata": {},
   "source": [
    "# Train a Regression Model\n",
    "\n",
    "In this notebook we will train a Linear Regression Model on the Green Taxi Dataset. We will only use one month for the training. And keep only a small number of features. \n",
    "\n",
    "We want the model to predict the duration of a trip. This can be useful for the taxi drivers to plan their trips, for the customers to know how long a trip will take but also for the taxi companies to plan their fleet. The first two predictions would need real time predictions because the duration of a trip is not known in advance. The last one could be done in batch mode, as it is more a analytical task that doesn't need to be done in real time.\n",
    "\n",
    "Additionally, we will use MLFlow to track the model training and log the model artifacts."
   ]
  },
  {
   "cell_type": "code",
   "execution_count": 20,
   "metadata": {},
   "outputs": [],
   "source": [
    "import os\n",
    "from dotenv import load_dotenv\n",
    "\n",
    "import pandas as pd\n",
    "\n",
    "import mlflow\n",
    "from mlflow.tracking.client import MlflowClient\n",
    "\n",
    "from sklearn.model_selection import train_test_split\n",
    "from sklearn.linear_model import LinearRegression\n",
    "from sklearn.metrics import mean_squared_error\n",
    "\n",
    "#import randomforest regressor\n",
    "from sklearn.metrics import mean_absolute_error, mean_absolute_percentage_error\n"
   ]
  },
  {
   "cell_type": "code",
   "execution_count": 21,
   "metadata": {},
   "outputs": [],
   "source": [
    "year = 2021\n",
    "month = 9\n",
    "color = \"green\""
   ]
  },
  {
   "cell_type": "code",
   "execution_count": 22,
   "metadata": {},
   "outputs": [
    {
     "name": "stderr",
     "output_type": "stream",
     "text": [
      "--2023-07-19 14:59:04--  https://d37ci6vzurychx.cloudfront.net/trip-data/green_tripdata_2021-09.parquet\n",
      "Resolving d37ci6vzurychx.cloudfront.net (d37ci6vzurychx.cloudfront.net)... 108.138.225.114, 108.138.225.93, 108.138.225.126, ...\n",
      "Connecting to d37ci6vzurychx.cloudfront.net (d37ci6vzurychx.cloudfront.net)|108.138.225.114|:443... connected.\n",
      "HTTP request sent, awaiting response... 200 OK\n",
      "Length: 1883216 (1,8M) [binary/octet-stream]\n",
      "Saving to: ‘./data/green_tripdata_2021-09.parquet’\n",
      "\n",
      "     0K .......... .......... .......... .......... ..........  2%  580K 3s\n",
      "    50K .......... .......... .......... .......... ..........  5%  999K 2s\n",
      "   100K .......... .......... .......... .......... ..........  8% 35,8M 2s\n",
      "   150K .......... .......... .......... .......... .......... 10% 3,51M 1s\n",
      "   200K .......... .......... .......... .......... .......... 13% 1,41M 1s\n",
      "   250K .......... .......... .......... .......... .......... 16%  132M 1s\n",
      "   300K .......... .......... .......... .......... .......... 19% 1007K 1s\n",
      "   350K .......... .......... .......... .......... .......... 21% 69,2M 1s\n",
      "   400K .......... .......... .......... .......... .......... 24% 73,5M 1s\n",
      "   450K .......... .......... .......... .......... .......... 27% 9,64M 1s\n",
      "   500K .......... .......... .......... .......... .......... 29% 11,4M 1s\n",
      "   550K .......... .......... .......... .......... .......... 32% 10,6M 1s\n",
      "   600K .......... .......... .......... .......... .......... 35% 32,0M 0s\n",
      "   650K .......... .......... .......... .......... .......... 38% 1,48M 0s\n",
      "   700K .......... .......... .......... .......... .......... 40% 64,1M 0s\n",
      "   750K .......... .......... .......... .......... .......... 43% 72,6M 0s\n",
      "   800K .......... .......... .......... .......... .......... 46%  154M 0s\n",
      "   850K .......... .......... .......... .......... .......... 48% 13,6M 0s\n",
      "   900K .......... .......... .......... .......... .......... 51% 2,20M 0s\n",
      "   950K .......... .......... .......... .......... .......... 54%  176M 0s\n",
      "  1000K .......... .......... .......... .......... .......... 57% 48,3M 0s\n",
      "  1050K .......... .......... .......... .......... .......... 59%  141M 0s\n",
      "  1100K .......... .......... .......... .......... .......... 62% 2,32M 0s\n",
      "  1150K .......... .......... .......... .......... .......... 65% 35,4M 0s\n",
      "  1200K .......... .......... .......... .......... .......... 67% 41,1M 0s\n",
      "  1250K .......... .......... .......... .......... .......... 70% 74,4M 0s\n",
      "  1300K .......... .......... .......... .......... .......... 73% 61,4M 0s\n",
      "  1350K .......... .......... .......... .......... .......... 76% 33,0M 0s\n",
      "  1400K .......... .......... .......... .......... .......... 78% 5,78M 0s\n",
      "  1450K .......... .......... .......... .......... .......... 81% 65,0M 0s\n",
      "  1500K .......... .......... .......... .......... .......... 84% 28,6M 0s\n",
      "  1550K .......... .......... .......... .......... .......... 87% 73,2M 0s\n",
      "  1600K .......... .......... .......... .......... .......... 89% 7,06M 0s\n",
      "  1650K .......... .......... .......... .......... .......... 92% 88,3M 0s\n",
      "  1700K .......... .......... .......... .......... .......... 95% 79,4M 0s\n",
      "  1750K .......... .......... .......... .......... .......... 97% 36,0M 0s\n",
      "  1800K .......... .......... .......... .........            100% 63,9M=0,4s\n",
      "\n",
      "2023-07-19 14:59:04 (4,94 MB/s) - ‘./data/green_tripdata_2021-09.parquet’ saved [1883216/1883216]\n",
      "\n"
     ]
    }
   ],
   "source": [
    "# Download the data\n",
    "if not os.path.exists(f\"./data/{color}_tripdata_{year}-{month:02d}.parquet\"):\n",
    "    os.system(f\"wget -P ./data https://d37ci6vzurychx.cloudfront.net/trip-data/{color}_tripdata_{year}-{month:02d}.parquet\")"
   ]
  },
  {
   "cell_type": "code",
   "execution_count": 23,
   "metadata": {},
   "outputs": [],
   "source": [
    "# Load the data\n",
    "\n",
    "df = pd.read_parquet(f\"./data/{color}_tripdata_{year}-{month:02d}.parquet\")"
   ]
  },
  {
   "cell_type": "code",
   "execution_count": 24,
   "metadata": {},
   "outputs": [
    {
     "data": {
      "text/plain": [
       "(95709, 20)"
      ]
     },
     "execution_count": 24,
     "metadata": {},
     "output_type": "execute_result"
    }
   ],
   "source": [
    "df.shape"
   ]
  },
  {
   "attachments": {},
   "cell_type": "markdown",
   "metadata": {},
   "source": [
    "Now we will set up the connection to MLFlow. For that we have to create a `.env` file with the URI to the MLFlow Server in gcp (this will be `http://<external-ip>:5000`). You can simply run:\n",
    "\n",
    "```bash\n",
    "echo \"MLFLOW_TRACKING_URI=http://<external-ip>:5000\" > .env\n",
    "```\n",
    "\n",
    "We also will create an experiment to track the model and the metrics."
   ]
  },
  {
   "cell_type": "code",
   "execution_count": 25,
   "metadata": {},
   "outputs": [],
   "source": [
    "load_dotenv()\n",
    "\n",
    "MLFLOW_TRACKING_URI=os.getenv(\"MLFLOW_TRACKING_URI\")"
   ]
  },
  {
   "cell_type": "code",
   "execution_count": 26,
   "metadata": {},
   "outputs": [
    {
     "data": {
      "text/plain": [
       "<Experiment: artifact_location='gs://mlflow-production/mlflow/4', creation_time=1689756962793, experiment_id='4', last_update_time=1689756962793, lifecycle_stage='active', name='green-taxi-monitoring', tags={}>"
      ]
     },
     "execution_count": 26,
     "metadata": {},
     "output_type": "execute_result"
    }
   ],
   "source": [
    "# Set up the connection to MLflow\n",
    "mlflow.set_tracking_uri(MLFLOW_TRACKING_URI)\n",
    "client = MlflowClient(tracking_uri=MLFLOW_TRACKING_URI)\n",
    "# Setup the MLflow experiment \n",
    "mlflow.set_experiment(\"green-taxi-monitoring\")"
   ]
  },
  {
   "attachments": {},
   "cell_type": "markdown",
   "metadata": {},
   "source": [
    "If everything went well, you should be able to see the experiment now in the MLFlow UI at `http://<external-ip>:5000`."
   ]
  },
  {
   "attachments": {},
   "cell_type": "markdown",
   "metadata": {},
   "source": [
    "Let's start now with looking at the data a bit:"
   ]
  },
  {
   "cell_type": "code",
   "execution_count": 27,
   "metadata": {},
   "outputs": [
    {
     "data": {
      "text/html": [
       "<div>\n",
       "<style scoped>\n",
       "    .dataframe tbody tr th:only-of-type {\n",
       "        vertical-align: middle;\n",
       "    }\n",
       "\n",
       "    .dataframe tbody tr th {\n",
       "        vertical-align: top;\n",
       "    }\n",
       "\n",
       "    .dataframe thead th {\n",
       "        text-align: right;\n",
       "    }\n",
       "</style>\n",
       "<table border=\"1\" class=\"dataframe\">\n",
       "  <thead>\n",
       "    <tr style=\"text-align: right;\">\n",
       "      <th></th>\n",
       "      <th>VendorID</th>\n",
       "      <th>lpep_pickup_datetime</th>\n",
       "      <th>lpep_dropoff_datetime</th>\n",
       "      <th>store_and_fwd_flag</th>\n",
       "      <th>RatecodeID</th>\n",
       "      <th>PULocationID</th>\n",
       "      <th>DOLocationID</th>\n",
       "      <th>passenger_count</th>\n",
       "      <th>trip_distance</th>\n",
       "      <th>fare_amount</th>\n",
       "      <th>extra</th>\n",
       "      <th>mta_tax</th>\n",
       "      <th>tip_amount</th>\n",
       "      <th>tolls_amount</th>\n",
       "      <th>ehail_fee</th>\n",
       "      <th>improvement_surcharge</th>\n",
       "      <th>total_amount</th>\n",
       "      <th>payment_type</th>\n",
       "      <th>trip_type</th>\n",
       "      <th>congestion_surcharge</th>\n",
       "    </tr>\n",
       "  </thead>\n",
       "  <tbody>\n",
       "    <tr>\n",
       "      <th>0</th>\n",
       "      <td>2</td>\n",
       "      <td>2021-09-01 00:30:44</td>\n",
       "      <td>2021-09-01 00:36:58</td>\n",
       "      <td>N</td>\n",
       "      <td>1.0</td>\n",
       "      <td>74</td>\n",
       "      <td>41</td>\n",
       "      <td>1.0</td>\n",
       "      <td>1.22</td>\n",
       "      <td>6.5</td>\n",
       "      <td>0.5</td>\n",
       "      <td>0.5</td>\n",
       "      <td>1.95</td>\n",
       "      <td>0.0</td>\n",
       "      <td>None</td>\n",
       "      <td>0.3</td>\n",
       "      <td>9.75</td>\n",
       "      <td>1.0</td>\n",
       "      <td>1.0</td>\n",
       "      <td>0.00</td>\n",
       "    </tr>\n",
       "    <tr>\n",
       "      <th>1</th>\n",
       "      <td>2</td>\n",
       "      <td>2021-09-01 00:39:00</td>\n",
       "      <td>2021-09-01 00:54:06</td>\n",
       "      <td>N</td>\n",
       "      <td>1.0</td>\n",
       "      <td>41</td>\n",
       "      <td>263</td>\n",
       "      <td>1.0</td>\n",
       "      <td>3.14</td>\n",
       "      <td>13.0</td>\n",
       "      <td>0.5</td>\n",
       "      <td>0.5</td>\n",
       "      <td>2.56</td>\n",
       "      <td>0.0</td>\n",
       "      <td>None</td>\n",
       "      <td>0.3</td>\n",
       "      <td>19.61</td>\n",
       "      <td>1.0</td>\n",
       "      <td>1.0</td>\n",
       "      <td>2.75</td>\n",
       "    </tr>\n",
       "    <tr>\n",
       "      <th>2</th>\n",
       "      <td>2</td>\n",
       "      <td>2021-09-01 00:57:51</td>\n",
       "      <td>2021-09-01 01:19:58</td>\n",
       "      <td>N</td>\n",
       "      <td>1.0</td>\n",
       "      <td>93</td>\n",
       "      <td>141</td>\n",
       "      <td>1.0</td>\n",
       "      <td>10.79</td>\n",
       "      <td>31.0</td>\n",
       "      <td>0.5</td>\n",
       "      <td>0.5</td>\n",
       "      <td>5.50</td>\n",
       "      <td>0.0</td>\n",
       "      <td>None</td>\n",
       "      <td>0.3</td>\n",
       "      <td>40.55</td>\n",
       "      <td>1.0</td>\n",
       "      <td>1.0</td>\n",
       "      <td>2.75</td>\n",
       "    </tr>\n",
       "    <tr>\n",
       "      <th>3</th>\n",
       "      <td>2</td>\n",
       "      <td>2021-09-01 00:00:11</td>\n",
       "      <td>2021-09-01 00:01:39</td>\n",
       "      <td>N</td>\n",
       "      <td>1.0</td>\n",
       "      <td>74</td>\n",
       "      <td>74</td>\n",
       "      <td>1.0</td>\n",
       "      <td>0.02</td>\n",
       "      <td>3.0</td>\n",
       "      <td>0.5</td>\n",
       "      <td>0.5</td>\n",
       "      <td>0.00</td>\n",
       "      <td>0.0</td>\n",
       "      <td>None</td>\n",
       "      <td>0.3</td>\n",
       "      <td>4.30</td>\n",
       "      <td>2.0</td>\n",
       "      <td>1.0</td>\n",
       "      <td>0.00</td>\n",
       "    </tr>\n",
       "    <tr>\n",
       "      <th>4</th>\n",
       "      <td>2</td>\n",
       "      <td>2021-09-01 00:29:26</td>\n",
       "      <td>2021-09-01 01:04:03</td>\n",
       "      <td>N</td>\n",
       "      <td>1.0</td>\n",
       "      <td>255</td>\n",
       "      <td>35</td>\n",
       "      <td>1.0</td>\n",
       "      <td>6.57</td>\n",
       "      <td>26.5</td>\n",
       "      <td>0.5</td>\n",
       "      <td>0.5</td>\n",
       "      <td>0.00</td>\n",
       "      <td>0.0</td>\n",
       "      <td>None</td>\n",
       "      <td>0.3</td>\n",
       "      <td>27.80</td>\n",
       "      <td>2.0</td>\n",
       "      <td>1.0</td>\n",
       "      <td>0.00</td>\n",
       "    </tr>\n",
       "  </tbody>\n",
       "</table>\n",
       "</div>"
      ],
      "text/plain": [
       "   VendorID lpep_pickup_datetime lpep_dropoff_datetime store_and_fwd_flag  \\\n",
       "0         2  2021-09-01 00:30:44   2021-09-01 00:36:58                  N   \n",
       "1         2  2021-09-01 00:39:00   2021-09-01 00:54:06                  N   \n",
       "2         2  2021-09-01 00:57:51   2021-09-01 01:19:58                  N   \n",
       "3         2  2021-09-01 00:00:11   2021-09-01 00:01:39                  N   \n",
       "4         2  2021-09-01 00:29:26   2021-09-01 01:04:03                  N   \n",
       "\n",
       "   RatecodeID  PULocationID  DOLocationID  passenger_count  trip_distance  \\\n",
       "0         1.0            74            41              1.0           1.22   \n",
       "1         1.0            41           263              1.0           3.14   \n",
       "2         1.0            93           141              1.0          10.79   \n",
       "3         1.0            74            74              1.0           0.02   \n",
       "4         1.0           255            35              1.0           6.57   \n",
       "\n",
       "   fare_amount  extra  mta_tax  tip_amount  tolls_amount ehail_fee  \\\n",
       "0          6.5    0.5      0.5        1.95           0.0      None   \n",
       "1         13.0    0.5      0.5        2.56           0.0      None   \n",
       "2         31.0    0.5      0.5        5.50           0.0      None   \n",
       "3          3.0    0.5      0.5        0.00           0.0      None   \n",
       "4         26.5    0.5      0.5        0.00           0.0      None   \n",
       "\n",
       "   improvement_surcharge  total_amount  payment_type  trip_type  \\\n",
       "0                    0.3          9.75           1.0        1.0   \n",
       "1                    0.3         19.61           1.0        1.0   \n",
       "2                    0.3         40.55           1.0        1.0   \n",
       "3                    0.3          4.30           2.0        1.0   \n",
       "4                    0.3         27.80           2.0        1.0   \n",
       "\n",
       "   congestion_surcharge  \n",
       "0                  0.00  \n",
       "1                  2.75  \n",
       "2                  2.75  \n",
       "3                  0.00  \n",
       "4                  0.00  "
      ]
     },
     "execution_count": 27,
     "metadata": {},
     "output_type": "execute_result"
    }
   ],
   "source": [
    "df.head()"
   ]
  },
  {
   "cell_type": "code",
   "execution_count": 28,
   "metadata": {},
   "outputs": [
    {
     "name": "stdout",
     "output_type": "stream",
     "text": [
      "<class 'pandas.core.frame.DataFrame'>\n",
      "RangeIndex: 95709 entries, 0 to 95708\n",
      "Data columns (total 20 columns):\n",
      " #   Column                 Non-Null Count  Dtype         \n",
      "---  ------                 --------------  -----         \n",
      " 0   VendorID               95709 non-null  int64         \n",
      " 1   lpep_pickup_datetime   95709 non-null  datetime64[ns]\n",
      " 2   lpep_dropoff_datetime  95709 non-null  datetime64[ns]\n",
      " 3   store_and_fwd_flag     61284 non-null  object        \n",
      " 4   RatecodeID             61284 non-null  float64       \n",
      " 5   PULocationID           95709 non-null  int64         \n",
      " 6   DOLocationID           95709 non-null  int64         \n",
      " 7   passenger_count        61284 non-null  float64       \n",
      " 8   trip_distance          95709 non-null  float64       \n",
      " 9   fare_amount            95709 non-null  float64       \n",
      " 10  extra                  95709 non-null  float64       \n",
      " 11  mta_tax                95709 non-null  float64       \n",
      " 12  tip_amount             95709 non-null  float64       \n",
      " 13  tolls_amount           95709 non-null  float64       \n",
      " 14  ehail_fee              0 non-null      object        \n",
      " 15  improvement_surcharge  95709 non-null  float64       \n",
      " 16  total_amount           95709 non-null  float64       \n",
      " 17  payment_type           61284 non-null  float64       \n",
      " 18  trip_type              61284 non-null  float64       \n",
      " 19  congestion_surcharge   61284 non-null  float64       \n",
      "dtypes: datetime64[ns](2), float64(13), int64(3), object(2)\n",
      "memory usage: 14.6+ MB\n"
     ]
    }
   ],
   "source": [
    "df.info()"
   ]
  },
  {
   "cell_type": "code",
   "execution_count": 29,
   "metadata": {},
   "outputs": [
    {
     "data": {
      "text/plain": [
       "VendorID                     0\n",
       "lpep_pickup_datetime         0\n",
       "lpep_dropoff_datetime        0\n",
       "store_and_fwd_flag       34425\n",
       "RatecodeID               34425\n",
       "PULocationID                 0\n",
       "DOLocationID                 0\n",
       "passenger_count          34425\n",
       "trip_distance                0\n",
       "fare_amount                  0\n",
       "extra                        0\n",
       "mta_tax                      0\n",
       "tip_amount                   0\n",
       "tolls_amount                 0\n",
       "ehail_fee                95709\n",
       "improvement_surcharge        0\n",
       "total_amount                 0\n",
       "payment_type             34425\n",
       "trip_type                34425\n",
       "congestion_surcharge     34425\n",
       "dtype: int64"
      ]
     },
     "execution_count": 29,
     "metadata": {},
     "output_type": "execute_result"
    }
   ],
   "source": [
    "# Look for missing values\n",
    "df.isnull().sum()"
   ]
  },
  {
   "attachments": {},
   "cell_type": "markdown",
   "metadata": {},
   "source": [
    "Nearly all features seem to be in the correct type and we have only missings in features that we will not use for the model training. For predicting the duration of a trip, we will use the following features:\n",
    "\n",
    "- `PULocationID`: The pickup location ID\n",
    "- `DOLocationID`: The dropoff location ID\n",
    "- `trip_distance`: The distance of the trip in miles\n",
    "- `fare_amount`: The fare amount in USD\n",
    "- `total_amount`: The total amount in USD\n",
    "- `passenger_count`: The number of passengers\n",
    "\n",
    "But first we have to calculate the duration of the trip in minutes because it is our target. For that we will use the `tpep_pickup_datetime` and `tpep_dropoff_datetime` columns. We will also remove all trips that have a duration of 0 and that are longer than 1 hours to remove outliers."
   ]
  },
  {
   "cell_type": "code",
   "execution_count": 30,
   "metadata": {},
   "outputs": [],
   "source": [
    "features = [\"PULocationID\", \"DOLocationID\", \"trip_distance\", \"passenger_count\", \"fare_amount\", \"total_amount\"]\n",
    "target = 'duration'"
   ]
  },
  {
   "cell_type": "code",
   "execution_count": 31,
   "metadata": {},
   "outputs": [],
   "source": [
    "# calculate the trip duration in minutes and drop trips that are less than 1 minute and more than 2 hours\n",
    "def calculate_trip_duration_in_minutes(df):\n",
    "    df[\"duration\"] = (df[\"lpep_dropoff_datetime\"] - df[\"lpep_pickup_datetime\"]).dt.total_seconds() / 60\n",
    "    df = df[(df[\"duration\"] >= 1) & (df[\"duration\"] <= 60)]\n",
    "    df = df[(df['passenger_count'] > 0) & (df['passenger_count'] < 8)]\n",
    "    df = df[features + [target]]\n",
    "    return df\n",
    "    "
   ]
  },
  {
   "cell_type": "code",
   "execution_count": 32,
   "metadata": {},
   "outputs": [],
   "source": [
    "df_processed = calculate_trip_duration_in_minutes(df)"
   ]
  },
  {
   "cell_type": "code",
   "execution_count": 33,
   "metadata": {},
   "outputs": [
    {
     "data": {
      "text/html": [
       "<div>\n",
       "<style scoped>\n",
       "    .dataframe tbody tr th:only-of-type {\n",
       "        vertical-align: middle;\n",
       "    }\n",
       "\n",
       "    .dataframe tbody tr th {\n",
       "        vertical-align: top;\n",
       "    }\n",
       "\n",
       "    .dataframe thead th {\n",
       "        text-align: right;\n",
       "    }\n",
       "</style>\n",
       "<table border=\"1\" class=\"dataframe\">\n",
       "  <thead>\n",
       "    <tr style=\"text-align: right;\">\n",
       "      <th></th>\n",
       "      <th>PULocationID</th>\n",
       "      <th>DOLocationID</th>\n",
       "      <th>trip_distance</th>\n",
       "      <th>passenger_count</th>\n",
       "      <th>fare_amount</th>\n",
       "      <th>total_amount</th>\n",
       "      <th>duration</th>\n",
       "    </tr>\n",
       "  </thead>\n",
       "  <tbody>\n",
       "    <tr>\n",
       "      <th>0</th>\n",
       "      <td>74</td>\n",
       "      <td>41</td>\n",
       "      <td>1.22</td>\n",
       "      <td>1.0</td>\n",
       "      <td>6.5</td>\n",
       "      <td>9.75</td>\n",
       "      <td>6.233333</td>\n",
       "    </tr>\n",
       "    <tr>\n",
       "      <th>1</th>\n",
       "      <td>41</td>\n",
       "      <td>263</td>\n",
       "      <td>3.14</td>\n",
       "      <td>1.0</td>\n",
       "      <td>13.0</td>\n",
       "      <td>19.61</td>\n",
       "      <td>15.100000</td>\n",
       "    </tr>\n",
       "    <tr>\n",
       "      <th>2</th>\n",
       "      <td>93</td>\n",
       "      <td>141</td>\n",
       "      <td>10.79</td>\n",
       "      <td>1.0</td>\n",
       "      <td>31.0</td>\n",
       "      <td>40.55</td>\n",
       "      <td>22.116667</td>\n",
       "    </tr>\n",
       "    <tr>\n",
       "      <th>3</th>\n",
       "      <td>74</td>\n",
       "      <td>74</td>\n",
       "      <td>0.02</td>\n",
       "      <td>1.0</td>\n",
       "      <td>3.0</td>\n",
       "      <td>4.30</td>\n",
       "      <td>1.466667</td>\n",
       "    </tr>\n",
       "    <tr>\n",
       "      <th>4</th>\n",
       "      <td>255</td>\n",
       "      <td>35</td>\n",
       "      <td>6.57</td>\n",
       "      <td>1.0</td>\n",
       "      <td>26.5</td>\n",
       "      <td>27.80</td>\n",
       "      <td>34.616667</td>\n",
       "    </tr>\n",
       "  </tbody>\n",
       "</table>\n",
       "</div>"
      ],
      "text/plain": [
       "   PULocationID  DOLocationID  trip_distance  passenger_count  fare_amount  \\\n",
       "0            74            41           1.22              1.0          6.5   \n",
       "1            41           263           3.14              1.0         13.0   \n",
       "2            93           141          10.79              1.0         31.0   \n",
       "3            74            74           0.02              1.0          3.0   \n",
       "4           255            35           6.57              1.0         26.5   \n",
       "\n",
       "   total_amount   duration  \n",
       "0          9.75   6.233333  \n",
       "1         19.61  15.100000  \n",
       "2         40.55  22.116667  \n",
       "3          4.30   1.466667  \n",
       "4         27.80  34.616667  "
      ]
     },
     "execution_count": 33,
     "metadata": {},
     "output_type": "execute_result"
    }
   ],
   "source": [
    "df_processed.head()"
   ]
  },
  {
   "cell_type": "code",
   "execution_count": 34,
   "metadata": {},
   "outputs": [
    {
     "data": {
      "text/plain": [
       "count    56437.000000\n",
       "mean        16.277459\n",
       "std         11.439164\n",
       "min          1.000000\n",
       "25%          8.183333\n",
       "50%         13.133333\n",
       "75%         21.016667\n",
       "max         60.000000\n",
       "Name: duration, dtype: float64"
      ]
     },
     "execution_count": 34,
     "metadata": {},
     "output_type": "execute_result"
    }
   ],
   "source": [
    "df_processed.duration.describe()"
   ]
  },
  {
   "cell_type": "markdown",
   "metadata": {},
   "source": []
  },
  {
   "cell_type": "code",
   "execution_count": 35,
   "metadata": {},
   "outputs": [
    {
     "data": {
      "text/plain": [
       "<Axes: >"
      ]
     },
     "execution_count": 35,
     "metadata": {},
     "output_type": "execute_result"
    },
    {
     "data": {
      "image/png": "[encoded data removed]",
      "text/plain": [
       "<Figure size 640x480 with 1 Axes>"
      ]
     },
     "metadata": {},
     "output_type": "display_data"
    }
   ],
   "source": [
    "df_processed.duration.hist()"
   ]
  },
  {
   "attachments": {},
   "cell_type": "markdown",
   "metadata": {},
   "source": [
    "Now that we have the dataframe that we want to train our model on. We need to split it into a train and test set. We will use 80% of the data for training and 20% for testing."
   ]
  },
  {
   "cell_type": "code",
   "execution_count": 36,
   "metadata": {},
   "outputs": [],
   "source": [
    "y=df_processed[\"duration\"]\n",
    "X=df_processed.drop(columns=[\"duration\"])\n",
    "\n",
    "X_train, X_test, y_train, y_test = train_test_split(X, y, random_state=42, test_size=0.2)"
   ]
  },
  {
   "attachments": {},
   "cell_type": "markdown",
   "metadata": {},
   "source": [
    "And now we can train the model and track the experiment with MLFlow. We will set tags to the experiment to make it easier to find it later.\n",
    "\n",
    "- `model`: `linear-regression`\n",
    "- `dataset`: `yellow-taxi`\n",
    "- `developer`: `your-name`\n",
    "- `train_size`: The size of the train set\n",
    "- `test_size`: The size of the test set\n",
    "- `features`: The features that we used for training\n",
    "- `target`: The target that we want to predict\n",
    "- `year`: The year of the data\n",
    "- `month`: The month of the data\n",
    "\n",
    "We could also log the model parameters but Linear Regression doesn't have any.\n",
    "\n",
    "And finally we will log the metrics:\n",
    "\n",
    "- `rmse`: The root mean squared error\n",
    "\n",
    "We will also log the model artifacts. For that we will need to set the `service account json` that we downloaded earlier as the environment variable `GOOGLE_APPLICATION_CREDENTIALS`. "
   ]
  },
  {
   "cell_type": "code",
   "execution_count": 37,
   "metadata": {},
   "outputs": [],
   "source": [
    "SA_KEY= os.getenv(\"SA_KEY\")\n",
    "os.environ[\"GOOGLE_APPLICATION_CREDENTIALS\"] = SA_KEY"
   ]
  },
  {
   "cell_type": "code",
   "execution_count": 38,
   "metadata": {},
   "outputs": [
    {
     "name": "stderr",
     "output_type": "stream",
     "text": [
      "Registered model 'green-taxi-ride-duration' already exists. Creating a new version of this model...\n",
      "2023/07/19 14:59:12 INFO mlflow.tracking._model_registry.client: Waiting up to 300 seconds for model version to finish creation. Model name: green-taxi-ride-duration, version 4\n",
      "Created version '4' of model 'green-taxi-ride-duration'.\n"
     ]
    }
   ],
   "source": [
    "with mlflow.start_run():\n",
    "    \n",
    "    tags = {\n",
    "        \"model\": \"linear regression\",\n",
    "        \"developer\": \"Victor Matekole\",\n",
    "        \"dataset\": f\"{color}-taxi\",\n",
    "        \"year\": year,\n",
    "        \"month\": month,\n",
    "        \"features\": features,\n",
    "        \"target\": target\n",
    "    }\n",
    "    mlflow.set_tags(tags)\n",
    "    \n",
    "    lr = LinearRegression()\n",
    "    lr.fit(X_train, y_train)\n",
    "    \n",
    "    y_pred = lr.predict(X_test)\n",
    "    rmse = mean_squared_error(y_test, y_pred, squared=False)\n",
    "    mlflow.log_metric(\"rmse\", rmse)\n",
    "    \n",
    "    mlflow.sklearn.log_model(lr, \"model\")\n",
    "    run_id = mlflow.active_run().info.run_id\n",
    "\n",
    "    model_uri = f\"runs:/{run_id}/model\"\n",
    "    model_name = \"green-taxi-ride-duration\"\n",
    "    mlflow.register_model(model_uri=model_uri, name=model_name)\n",
    "\n",
    "    model_version = 1\n",
    "    new_stage = \"Production\"\n",
    "    client.transition_model_version_stage(\n",
    "    name=model_name,\n",
    "    version=model_version,\n",
    "    stage=new_stage,\n",
    "    archive_existing_versions=False\n",
    ")"
   ]
  },
  {
   "attachments": {},
   "cell_type": "markdown",
   "metadata": {},
   "source": [
    "You should now see your run in the MLFlow UI. Under the created experiment. You can also see the logged tags, the metric and the saved model.\n",
    "\n",
    "![mlflow-ui](./images/mlflow-run.png)\n",
    "\n",
    "And you can see what you need to do to load the model in an API or script in the UI as long as the application has access to MLFlow.\n"
   ]
  }
 ],
 "metadata": {
  "kernelspec": {
   "display_name": ".venv",
   "language": "python",
   "name": "python3"
  },
  "language_info": {
   "codemirror_mode": {
    "name": "ipython",
    "version": 3
   },
   "file_extension": ".py",
   "mimetype": "text/x-python",
   "name": "python",
   "nbconvert_exporter": "python",
   "pygments_lexer": "ipython3",
   "version": "3.11.3"
  },
  "orig_nbformat": 4
 },
 "nbformat": 4,
 "nbformat_minor": 2
}
